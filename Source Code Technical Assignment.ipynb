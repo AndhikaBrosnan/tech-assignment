{
  "nbformat": 4,
  "nbformat_minor": 0,
  "metadata": {
    "colab": {
      "name": "-",
      "provenance": [],
      "collapsed_sections": []
    },
    "kernelspec": {
      "name": "python3",
      "display_name": "Python 3"
    },
    "language_info": {
      "name": "python"
    }
  },
  "cells": [
    {
      "cell_type": "markdown",
      "source": [
        "# Bagian 1|"
      ],
      "metadata": {
        "id": "3awzZy6-SG1J"
      }
    },
    {
      "cell_type": "markdown",
      "source": [
        "## Nomer 1"
      ],
      "metadata": {
        "id": "nGcYpbLsP_8C"
      }
    },
    {
      "cell_type": "code",
      "execution_count": 1,
      "metadata": {
        "id": "TRiYkUMcOThW",
        "colab": {
          "base_uri": "https://localhost:8080/"
        },
        "outputId": "70d95296-c744-4150-b142-46109c129412"
      },
      "outputs": [
        {
          "output_type": "stream",
          "name": "stdout",
          "text": [
            "#\n",
            "##\n",
            "###\n",
            "####\n",
            "#####\n",
            "######\n"
          ]
        }
      ],
      "source": [
        "# Membuat tangga\n",
        "for i in range(1,7):\n",
        "  print('#'*i)"
      ]
    },
    {
      "cell_type": "markdown",
      "source": [
        "## Nomer 2"
      ],
      "metadata": {
        "id": "XLhE2o5LRT61"
      }
    },
    {
      "cell_type": "code",
      "source": [
        "for i in range(8):\n",
        "  for j in range(4):\n",
        "    print('#',end='')\n",
        "  print('')"
      ],
      "metadata": {
        "colab": {
          "base_uri": "https://localhost:8080/"
        },
        "id": "VGhsS86RRAKE",
        "outputId": "798e1f9e-dd2f-454b-c5ac-2dd2c5951ae4"
      },
      "execution_count": 8,
      "outputs": [
        {
          "output_type": "stream",
          "name": "stdout",
          "text": [
            "####\n",
            "####\n",
            "####\n",
            "####\n",
            "####\n",
            "####\n",
            "####\n",
            "####\n"
          ]
        }
      ]
    },
    {
      "cell_type": "markdown",
      "source": [
        "## Nomer 3"
      ],
      "metadata": {
        "id": "PKWAOenfSEhy"
      }
    },
    {
      "cell_type": "code",
      "source": [
        "from datetime import date\n",
        "\n",
        "hari = 21\n",
        "bulan = 1\n",
        "tahun = 1945\n",
        "\n",
        "date(day=hari,month=bulan, year=tahun).strftime('%d %B %Y')"
      ],
      "metadata": {
        "colab": {
          "base_uri": "https://localhost:8080/",
          "height": 35
        },
        "id": "IYzn9bkpRfkn",
        "outputId": "bb98d7a9-026b-4875-a795-9b4c8448109c"
      },
      "execution_count": 10,
      "outputs": [
        {
          "output_type": "execute_result",
          "data": {
            "application/vnd.google.colaboratory.intrinsic+json": {
              "type": "string"
            },
            "text/plain": [
              "'21 January 1945'"
            ]
          },
          "metadata": {},
          "execution_count": 10
        }
      ]
    },
    {
      "cell_type": "markdown",
      "source": [
        "## Nomer 4"
      ],
      "metadata": {
        "id": "n7N2jOyqS4Oj"
      }
    },
    {
      "cell_type": "code",
      "source": [
        "myInput = input('node array range: ')\n",
        "myInput"
      ],
      "metadata": {
        "colab": {
          "base_uri": "https://localhost:8080/",
          "height": 53
        },
        "id": "cVSOBpFLSzKU",
        "outputId": "cb272b5e-125c-4aab-cfe4-7c2301174729"
      },
      "execution_count": 32,
      "outputs": [
        {
          "name": "stdout",
          "output_type": "stream",
          "text": [
            "node array range: 1 10\n"
          ]
        },
        {
          "output_type": "execute_result",
          "data": {
            "application/vnd.google.colaboratory.intrinsic+json": {
              "type": "string"
            },
            "text/plain": [
              "'1 10'"
            ]
          },
          "metadata": {},
          "execution_count": 32
        }
      ]
    },
    {
      "cell_type": "code",
      "source": [
        "def sequence(myInput):\n",
        "  arr_input = myInput.split(\" \")\n",
        "  start = int(arr_input[0])\n",
        "  finish = int(arr_input[1])\n",
        "\n",
        "  if(start < finish):\n",
        "    for i in range(start,finish+1):\n",
        "      print(i,end=' ')\n",
        "  else:\n",
        "    for i in range(start, finish-1,-1):\n",
        "      print(i,end=' ')\n"
      ],
      "metadata": {
        "id": "cXsd-puyURUY"
      },
      "execution_count": 33,
      "outputs": []
    },
    {
      "cell_type": "code",
      "source": [
        "sequence(myInput)"
      ],
      "metadata": {
        "colab": {
          "base_uri": "https://localhost:8080/"
        },
        "id": "E-aG7Yd7UAsk",
        "outputId": "a7a0accb-2279-4c05-d7dc-380bfaa11ad4"
      },
      "execution_count": 34,
      "outputs": [
        {
          "output_type": "stream",
          "name": "stdout",
          "text": [
            "1 2 3 4 5 6 7 8 9 10 "
          ]
        }
      ]
    },
    {
      "cell_type": "markdown",
      "source": [
        "## Nomer 5"
      ],
      "metadata": {
        "id": "cZNjIWApV3d3"
      }
    },
    {
      "cell_type": "code",
      "source": [
        "myInput = input('node array range with Step: ')\n",
        "myInput"
      ],
      "metadata": {
        "colab": {
          "base_uri": "https://localhost:8080/",
          "height": 53
        },
        "id": "8bdEgvvpWAx6",
        "outputId": "31581b7d-e056-40da-ac25-74194d0ea01b"
      },
      "execution_count": 39,
      "outputs": [
        {
          "name": "stdout",
          "output_type": "stream",
          "text": [
            "node array range with Step: 5 2 1\n"
          ]
        },
        {
          "output_type": "execute_result",
          "data": {
            "application/vnd.google.colaboratory.intrinsic+json": {
              "type": "string"
            },
            "text/plain": [
              "'5 2 1'"
            ]
          },
          "metadata": {},
          "execution_count": 39
        }
      ]
    },
    {
      "cell_type": "code",
      "source": [
        "def sequence(myInput):\n",
        "  arr_input = myInput.split(\" \")\n",
        "  start = int(arr_input[0])\n",
        "  finish = int(arr_input[1])\n",
        "  step = int(arr_input[2])\n",
        "\n",
        "  if(start < finish):\n",
        "    for i in range(start,finish+1,step):\n",
        "      print(i,end=' ')\n",
        "  else:\n",
        "    step = -abs(step)\n",
        "    for i in range(start, finish-1,-1):\n",
        "      print(i,end=' ')\n"
      ],
      "metadata": {
        "id": "FKsLjPkGUmbI"
      },
      "execution_count": 40,
      "outputs": []
    },
    {
      "cell_type": "code",
      "source": [
        "sequence(myInput)"
      ],
      "metadata": {
        "colab": {
          "base_uri": "https://localhost:8080/"
        },
        "id": "DySmMI9xWjhQ",
        "outputId": "c2c59342-bb9c-415b-d97f-963bb1ec4ffd"
      },
      "execution_count": 41,
      "outputs": [
        {
          "output_type": "stream",
          "name": "stdout",
          "text": [
            "5 4 3 2 "
          ]
        }
      ]
    },
    {
      "cell_type": "markdown",
      "source": [
        "## Nomer 6"
      ],
      "metadata": {
        "id": "rUADUSOsWs6q"
      }
    },
    {
      "cell_type": "code",
      "source": [
        "arr = [\n",
        "  [\"0001\", \"Roman Alamsyah\", \"Bandar Lampung\", \"21/05/1989\", \"Membaca\"],\n",
        "  [\"0002\", \"Dika Sembiring\", \"Medan\", \"10/10/1992\", \"Bermain Gitar\"],\n",
        "  [\"0003\", \"Winona\", \"Ambon\", \"25/12/1965\", \"Memasak\"],\n",
        "  [\"0004\", \"Bintang Senjaya\", \"Martapura\", \"6/4/1970\", \"Berkebun\"]\n",
        "]"
      ],
      "metadata": {
        "id": "S4tbhg8EWn-O"
      },
      "execution_count": 45,
      "outputs": []
    },
    {
      "cell_type": "code",
      "source": [
        "for i in arr:\n",
        "  print('NOMOR ID: ',i[0])\n",
        "  print('Nama Lengkap: ', i[1])\n",
        "  print('TTL: ',i[2]+' '+i[3])\n",
        "  print('Hobi: ',i[4])\n",
        "  print('')"
      ],
      "metadata": {
        "colab": {
          "base_uri": "https://localhost:8080/"
        },
        "id": "x8tK6N9sW3aW",
        "outputId": "c8722048-0191-4a64-8551-4b5a7d0d2887"
      },
      "execution_count": 52,
      "outputs": [
        {
          "output_type": "stream",
          "name": "stdout",
          "text": [
            "NOMOR ID:  0001\n",
            "Nama Lengkap:  Roman Alamsyah\n",
            "TTL:  Bandar Lampung 21/05/1989\n",
            "Hobi:  Membaca\n",
            "\n",
            "NOMOR ID:  0002\n",
            "Nama Lengkap:  Dika Sembiring\n",
            "TTL:  Medan 10/10/1992\n",
            "Hobi:  Bermain Gitar\n",
            "\n",
            "NOMOR ID:  0003\n",
            "Nama Lengkap:  Winona\n",
            "TTL:  Ambon 25/12/1965\n",
            "Hobi:  Memasak\n",
            "\n",
            "NOMOR ID:  0004\n",
            "Nama Lengkap:  Bintang Senjaya\n",
            "TTL:  Martapura 6/4/1970\n",
            "Hobi:  Berkebun\n",
            "\n"
          ]
        }
      ]
    },
    {
      "cell_type": "markdown",
      "source": [
        "## Nomer 7"
      ],
      "metadata": {
        "id": "2wD4TPu0Yh6w"
      }
    },
    {
      "cell_type": "code",
      "source": [
        "myInput = input('node array balikKata: ')\n",
        "myInput"
      ],
      "metadata": {
        "colab": {
          "base_uri": "https://localhost:8080/",
          "height": 53
        },
        "id": "y9QeEdbAX6Ft",
        "outputId": "7134bad7-517f-43be-c6ba-108618c97110"
      },
      "execution_count": 74,
      "outputs": [
        {
          "name": "stdout",
          "output_type": "stream",
          "text": [
            "node array balikKata: PadjadjaranLab\n"
          ]
        },
        {
          "output_type": "execute_result",
          "data": {
            "application/vnd.google.colaboratory.intrinsic+json": {
              "type": "string"
            },
            "text/plain": [
              "'PadjadjaranLab'"
            ]
          },
          "metadata": {},
          "execution_count": 74
        }
      ]
    },
    {
      "cell_type": "code",
      "source": [
        "arr_char = []\n",
        "new_word = ''\n",
        "\n",
        "for i in myInput:\n",
        "  arr_char.append(i)\n",
        "\n",
        "for j in range(len(arr_char)-1, -1 ,-1):\n",
        "  new_word += arr_char[j]\n",
        "\n",
        "print(new_word)"
      ],
      "metadata": {
        "colab": {
          "base_uri": "https://localhost:8080/"
        },
        "id": "oCgnESIqYrDe",
        "outputId": "8869a3b7-a35e-4acb-ccd9-c2afe1625268"
      },
      "execution_count": 76,
      "outputs": [
        {
          "output_type": "stream",
          "name": "stdout",
          "text": [
            "baLnarajdajdaP\n"
          ]
        }
      ]
    },
    {
      "cell_type": "markdown",
      "source": [
        "## Nomer 8"
      ],
      "metadata": {
        "id": "kxRc5t1DbTTs"
      }
    },
    {
      "cell_type": "code",
      "source": [
        "arr = [[\"Abduh\", \"Muhamad\", \"male\", 1992], [\"Ahmad\", \"Taufik\", \"male\",\n",
        "1985]]\n",
        "\n",
        "obj = {}\n",
        "\n",
        "arr"
      ],
      "metadata": {
        "colab": {
          "base_uri": "https://localhost:8080/"
        },
        "id": "MHvEsQaHZjku",
        "outputId": "67256908-83b0-44fe-d64a-2c6a25387514"
      },
      "execution_count": 78,
      "outputs": [
        {
          "output_type": "execute_result",
          "data": {
            "text/plain": [
              "[['Abduh', 'Muhamad', 'male', 1992], ['Ahmad', 'Taufik', 'male', 1985]]"
            ]
          },
          "metadata": {},
          "execution_count": 78
        }
      ]
    },
    {
      "cell_type": "code",
      "source": [
        "for i in arr:\n",
        "  obj[i[0]+' '+i[1]] = {'firstName':i[0],\n",
        "                        'lastName':i[1],\n",
        "                        'gender':i[2],\n",
        "                        'age':i[3]\n",
        "                        }\n",
        "\n",
        "for i,val in enumerate (obj):\n",
        "  print(i+1,'. ',val,': ',obj.get(val))\n",
        "  print('')"
      ],
      "metadata": {
        "colab": {
          "base_uri": "https://localhost:8080/"
        },
        "id": "j0B0yzGnbgzj",
        "outputId": "e4fe3ede-1a3d-4f52-a9c6-d647bfa5a4ac"
      },
      "execution_count": 92,
      "outputs": [
        {
          "output_type": "stream",
          "name": "stdout",
          "text": [
            "1 .  Abduh Muhamad :  {'firstName': 'Abduh', 'lastName': 'Muhamad', 'gender': 'male', 'age': 1992}\n",
            "\n",
            "2 .  Ahmad Taufik :  {'firstName': 'Ahmad', 'lastName': 'Taufik', 'gender': 'male', 'age': 1985}\n",
            "\n"
          ]
        }
      ]
    },
    {
      "cell_type": "markdown",
      "source": [
        "## Nomer 9"
      ],
      "metadata": {
        "id": "_7AEk1j-eYZG"
      }
    },
    {
      "cell_type": "code",
      "source": [
        ""
      ],
      "metadata": {
        "id": "Zu4jLIpCcg8a"
      },
      "execution_count": null,
      "outputs": []
    },
    {
      "cell_type": "markdown",
      "source": [
        "## Nomer 10"
      ],
      "metadata": {
        "id": "1JjYBf50gQwg"
      }
    },
    {
      "cell_type": "code",
      "source": [
        "penumpang = input('nama: ')\n",
        "start = input('dari: ')\n",
        "finish = input('ke: ')"
      ],
      "metadata": {
        "colab": {
          "base_uri": "https://localhost:8080/"
        },
        "id": "vZcsJ3gKglh3",
        "outputId": "9adbaee0-fc8e-4c99-87a8-c89949a187b4"
      },
      "execution_count": 103,
      "outputs": [
        {
          "name": "stdout",
          "output_type": "stream",
          "text": [
            "nama: asdfa\n",
            "dari: b\n",
            "ke: af\n"
          ]
        }
      ]
    },
    {
      "cell_type": "code",
      "source": [
        ""
      ],
      "metadata": {
        "colab": {
          "base_uri": "https://localhost:8080/"
        },
        "id": "sX5BZDnfhnrp",
        "outputId": "2b087f6f-3c04-424a-ec1f-19adf74acce4"
      },
      "execution_count": 105,
      "outputs": [
        {
          "output_type": "execute_result",
          "data": {
            "text/plain": [
              "4"
            ]
          },
          "metadata": {},
          "execution_count": 105
        }
      ]
    },
    {
      "cell_type": "code",
      "source": [
        "def naikAngkot(nama, start, finish):\n",
        "  distance = ord(finish) - ord(start)\n",
        "  distance\n",
        "  \n",
        "  bayar = distance * 2000\n",
        "  return [ {'penumpang: ':nama, 'naikDari: ':start,' tujuan: ':finish,'bayar: ':bayar}]"
      ],
      "metadata": {
        "id": "bhl-07vQhq_R"
      },
      "execution_count": 109,
      "outputs": []
    },
    {
      "cell_type": "code",
      "source": [
        "naikAngkot(penumpang,start,finish)"
      ],
      "metadata": {
        "colab": {
          "base_uri": "https://localhost:8080/"
        },
        "id": "gwMI-P_KikkL",
        "outputId": "37c1790c-366f-4fce-854c-91642581d6aa"
      },
      "execution_count": 110,
      "outputs": [
        {
          "output_type": "execute_result",
          "data": {
            "text/plain": [
              "[{' tujuan: ': 'f',\n",
              "  'bayar: ': 8000,\n",
              "  'naikDari: ': 'b',\n",
              "  'penumpang: ': 'asdfa'}]"
            ]
          },
          "metadata": {},
          "execution_count": 110
        }
      ]
    },
    {
      "cell_type": "markdown",
      "source": [
        "## Nomer 11"
      ],
      "metadata": {
        "id": "2dY9xssei152"
      }
    },
    {
      "cell_type": "code",
      "source": [
        "data = [\n",
        "        {\n",
        "          'name': 'Bondra',\n",
        "          'score': 100,\n",
        "          'class': 'adonis'},\n",
        "        {\n",
        "          'name': 'Putri',\n",
        "          'score': 76,\n",
        "          'class': 'laravel'\n",
        "        },\n",
        "        {\n",
        "          'name': 'Iqbal',\n",
        "          'score': 92,\n",
        "          'class': 'adonis'\n",
        "        },\n",
        "        {\n",
        "          'name': 'Tyar',\n",
        "          'score': 71,\n",
        "          'class': 'laravel'\n",
        "        },\n",
        "        {\n",
        "          'name': 'Hilmy',\n",
        "          'score': 80,\n",
        "          'class': 'vuejs'\n",
        "        }\n",
        "]"
      ],
      "metadata": {
        "id": "-_C8if-EioHj"
      },
      "execution_count": 112,
      "outputs": []
    },
    {
      "cell_type": "code",
      "source": [
        "def nilaiTertinggi(data):\n",
        "  temp = 0\n",
        "  temp_arr = []\n",
        "  for i in data:\n",
        "    if(i['score'] > temp):\n",
        "      temp_arr.insert(0,i)\n",
        "      temp = i['score']\n",
        "    else:\n",
        "      temp_arr.append(i)\n",
        "  return temp_arr"
      ],
      "metadata": {
        "id": "FrywFB77kdJU"
      },
      "execution_count": 119,
      "outputs": []
    },
    {
      "cell_type": "code",
      "source": [
        "nilaiTertinggi(data)"
      ],
      "metadata": {
        "colab": {
          "base_uri": "https://localhost:8080/"
        },
        "id": "sD7V6WBYmDhS",
        "outputId": "f259cc91-049e-4e26-da2a-4af32559ce89"
      },
      "execution_count": 120,
      "outputs": [
        {
          "output_type": "execute_result",
          "data": {
            "text/plain": [
              "[{'class': 'adonis', 'name': 'Bondra', 'score': 100},\n",
              " {'class': 'laravel', 'name': 'Putri', 'score': 76},\n",
              " {'class': 'adonis', 'name': 'Iqbal', 'score': 92},\n",
              " {'class': 'laravel', 'name': 'Tyar', 'score': 71},\n",
              " {'class': 'vuejs', 'name': 'Hilmy', 'score': 80}]"
            ]
          },
          "metadata": {},
          "execution_count": 120
        }
      ]
    },
    {
      "cell_type": "code",
      "source": [
        ""
      ],
      "metadata": {
        "id": "980nRtoemFul"
      },
      "execution_count": null,
      "outputs": []
    }
  ]
}